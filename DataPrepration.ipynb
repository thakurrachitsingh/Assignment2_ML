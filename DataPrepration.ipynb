{
 "cells": [
  {
   "cell_type": "code",
   "execution_count": 1,
   "source": [
    "import pandas as pd\r\n",
    "from collections import defaultdict\r\n",
    "from os import getcwd"
   ],
   "outputs": [],
   "metadata": {}
  },
  {
   "cell_type": "code",
   "execution_count": 2,
   "source": [
    "PATH_COVID   = f\"{getcwd()}/Data Store/covid-19.csv\""
   ],
   "outputs": [],
   "metadata": {}
  },
  {
   "cell_type": "code",
   "execution_count": 3,
   "source": [
    "df = pd.read_csv(PATH_COVID)\r\n",
    "df.head()\r\n"
   ],
   "outputs": [
    {
     "output_type": "execute_result",
     "data": {
      "text/plain": [
       "        State/UTs  Total Cases  Active  Discharged  Deaths  Active Ratio (%)  \\\n",
       "0     Maharashtra      6214190  106809     5980350  127031              1.72   \n",
       "1          Kerala      3160937  125535     3020052   15350              3.97   \n",
       "2       Karnataka      2883947   29314     2818476   36157              1.02   \n",
       "3      Tamil Nadu      2535402   27897     2473781   33724              1.10   \n",
       "4  Andhra Pradesh      1940096   24708     1902256   13132              1.27   \n",
       "\n",
       "   Discharge Ratio (%)  Death Ratio (%)  \n",
       "0                96.24             2.04  \n",
       "1                95.54             0.49  \n",
       "2                97.73             1.25  \n",
       "3                97.57             1.33  \n",
       "4                98.05             0.68  "
      ],
      "text/html": [
       "<div>\n",
       "<style scoped>\n",
       "    .dataframe tbody tr th:only-of-type {\n",
       "        vertical-align: middle;\n",
       "    }\n",
       "\n",
       "    .dataframe tbody tr th {\n",
       "        vertical-align: top;\n",
       "    }\n",
       "\n",
       "    .dataframe thead th {\n",
       "        text-align: right;\n",
       "    }\n",
       "</style>\n",
       "<table border=\"1\" class=\"dataframe\">\n",
       "  <thead>\n",
       "    <tr style=\"text-align: right;\">\n",
       "      <th></th>\n",
       "      <th>State/UTs</th>\n",
       "      <th>Total Cases</th>\n",
       "      <th>Active</th>\n",
       "      <th>Discharged</th>\n",
       "      <th>Deaths</th>\n",
       "      <th>Active Ratio (%)</th>\n",
       "      <th>Discharge Ratio (%)</th>\n",
       "      <th>Death Ratio (%)</th>\n",
       "    </tr>\n",
       "  </thead>\n",
       "  <tbody>\n",
       "    <tr>\n",
       "      <th>0</th>\n",
       "      <td>Maharashtra</td>\n",
       "      <td>6214190</td>\n",
       "      <td>106809</td>\n",
       "      <td>5980350</td>\n",
       "      <td>127031</td>\n",
       "      <td>1.72</td>\n",
       "      <td>96.24</td>\n",
       "      <td>2.04</td>\n",
       "    </tr>\n",
       "    <tr>\n",
       "      <th>1</th>\n",
       "      <td>Kerala</td>\n",
       "      <td>3160937</td>\n",
       "      <td>125535</td>\n",
       "      <td>3020052</td>\n",
       "      <td>15350</td>\n",
       "      <td>3.97</td>\n",
       "      <td>95.54</td>\n",
       "      <td>0.49</td>\n",
       "    </tr>\n",
       "    <tr>\n",
       "      <th>2</th>\n",
       "      <td>Karnataka</td>\n",
       "      <td>2883947</td>\n",
       "      <td>29314</td>\n",
       "      <td>2818476</td>\n",
       "      <td>36157</td>\n",
       "      <td>1.02</td>\n",
       "      <td>97.73</td>\n",
       "      <td>1.25</td>\n",
       "    </tr>\n",
       "    <tr>\n",
       "      <th>3</th>\n",
       "      <td>Tamil Nadu</td>\n",
       "      <td>2535402</td>\n",
       "      <td>27897</td>\n",
       "      <td>2473781</td>\n",
       "      <td>33724</td>\n",
       "      <td>1.10</td>\n",
       "      <td>97.57</td>\n",
       "      <td>1.33</td>\n",
       "    </tr>\n",
       "    <tr>\n",
       "      <th>4</th>\n",
       "      <td>Andhra Pradesh</td>\n",
       "      <td>1940096</td>\n",
       "      <td>24708</td>\n",
       "      <td>1902256</td>\n",
       "      <td>13132</td>\n",
       "      <td>1.27</td>\n",
       "      <td>98.05</td>\n",
       "      <td>0.68</td>\n",
       "    </tr>\n",
       "  </tbody>\n",
       "</table>\n",
       "</div>"
      ]
     },
     "metadata": {},
     "execution_count": 3
    }
   ],
   "metadata": {}
  },
  {
   "cell_type": "code",
   "execution_count": 4,
   "source": [
    "print(f\"It is {pd.Series(df['State/UTs']).is_unique}  that the column 'StateUTs' has unique values for all entries in movies dataframe.\")"
   ],
   "outputs": [
    {
     "output_type": "stream",
     "name": "stdout",
     "text": [
      "It is True  that the column 'StateUTs' has unique values for all entries in movies dataframe.\n"
     ]
    }
   ],
   "metadata": {}
  },
  {
   "cell_type": "code",
   "execution_count": 5,
   "source": [
    "covid_dic = {}\r\n",
    "df_state = df['State/UTs'].tolist()"
   ],
   "outputs": [],
   "metadata": {}
  },
  {
   "cell_type": "code",
   "execution_count": 6,
   "source": [
    "x = 0\r\n",
    "for i in df_state:\r\n",
    "    covid_dic[i] = x\r\n",
    "    x= x+1\r\n",
    "print(covid_dic)"
   ],
   "outputs": [
    {
     "output_type": "stream",
     "name": "stdout",
     "text": [
      "{'Maharashtra': 0, 'Kerala': 1, 'Karnataka': 2, 'Tamil Nadu': 3, 'Andhra Pradesh': 4, 'Uttar Pradesh': 5, 'West Bengal': 6, 'Delhi': 7, 'Chhattisgarh': 8, 'Odisha': 9, 'Rajasthan': 10, 'Gujarat': 11, 'Madhya Pradesh': 12, 'Haryana': 13, 'Bihar': 14, 'Telengana': 15, 'Punjab': 16, 'Assam': 17, 'Jharkhand': 18, 'Uttarakhand': 19, 'Jammu and Kashmir': 20, 'Himachal Pradesh': 21, 'Goa': 22, 'Puducherry': 23, 'Manipur': 24, 'Tripura': 25, 'Chandigarh': 26, 'Meghalaya': 27, 'Arunachal Pradesh': 28, 'Mizoram': 29, 'Nagaland': 30, 'Sikkim': 31, 'Ladakh': 32, 'Dadra and Nagar Haveli and Daman and Diu': 33, 'Lakshadweep': 34, 'Andaman and Nicobar': 35}\n"
     ]
    }
   ],
   "metadata": {}
  },
  {
   "cell_type": "code",
   "execution_count": 7,
   "source": [
    "df['State/UTs'][df['State/UTs'] == 'Maharashtra']"
   ],
   "outputs": [
    {
     "output_type": "execute_result",
     "data": {
      "text/plain": [
       "0    Maharashtra\n",
       "Name: State/UTs, dtype: object"
      ]
     },
     "metadata": {},
     "execution_count": 7
    }
   ],
   "metadata": {}
  },
  {
   "cell_type": "code",
   "execution_count": 8,
   "source": [
    "df_dic = {}\r\n",
    "x = 0\r\n",
    "for i in df_state:\r\n",
    "    df_dic[x] = {\r\n",
    "        'state':df.iloc[x,0],\r\n",
    "        'totalCase':df.iloc[x,1],\r\n",
    "        'active':df.iloc[x,2],\r\n",
    "        'discharged':df.iloc[x,3],\r\n",
    "        'deaths':df.iloc[x,4],\r\n",
    "        'activeRatio':df.iloc[x,5],\r\n",
    "        'dischargedRatio':df.iloc[x,6],\r\n",
    "        'deathRatio':df.iloc[x,7],\r\n",
    "    }\r\n",
    "    x = x +1"
   ],
   "outputs": [],
   "metadata": {}
  },
  {
   "cell_type": "code",
   "execution_count": 9,
   "source": [
    "%store df_dic\r\n",
    "%store covid_dic"
   ],
   "outputs": [
    {
     "output_type": "stream",
     "name": "stdout",
     "text": [
      "Stored 'df_dic' (dict)\n",
      "Stored 'covid_dic' (dict)\n"
     ]
    }
   ],
   "metadata": {}
  },
  {
   "cell_type": "code",
   "execution_count": null,
   "source": [],
   "outputs": [],
   "metadata": {}
  }
 ],
 "metadata": {
  "orig_nbformat": 4,
  "language_info": {
   "name": "python",
   "version": "3.8.8",
   "mimetype": "text/x-python",
   "codemirror_mode": {
    "name": "ipython",
    "version": 3
   },
   "pygments_lexer": "ipython3",
   "nbconvert_exporter": "python",
   "file_extension": ".py"
  },
  "kernelspec": {
   "name": "python3",
   "display_name": "Python 3.8.8 64-bit ('base': conda)"
  },
  "interpreter": {
   "hash": "d862c071e59930aca1a120f94be8023881e5d7e2745f60bf5eebc60b16b535cd"
  }
 },
 "nbformat": 4,
 "nbformat_minor": 2
}