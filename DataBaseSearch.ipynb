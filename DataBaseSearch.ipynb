{
 "cells": [
  {
   "cell_type": "code",
   "execution_count": 1,
   "source": [
    "pip install prettytable"
   ],
   "outputs": [
    {
     "output_type": "stream",
     "name": "stdout",
     "text": [
      "Requirement already satisfied: prettytable in c:\\users\\thaku\\anaconda3\\lib\\site-packages (2.1.0)\n",
      "Requirement already satisfied: wcwidth in c:\\users\\thaku\\anaconda3\\lib\\site-packages (from prettytable) (0.2.5)\n",
      "Note: you may need to restart the kernel to use updated packages.\n"
     ]
    }
   ],
   "metadata": {}
  },
  {
   "cell_type": "code",
   "execution_count": 2,
   "source": [
    "import json\r\n",
    "\r\n",
    "from prettytable import PrettyTable\r\n",
    "from stringMatcher import levenshtein_ratio_and_distance\r\n",
    "from time import time\r\n",
    "table = PrettyTable(field_names=[\"state\", \"totalCase\", \"active\", \"discharged\",\"deaths\", \"activeRatio\", \"dischargedRatio\", \"deathsRatio\"])\r\n"
   ],
   "outputs": [],
   "metadata": {}
  },
  {
   "cell_type": "code",
   "execution_count": 3,
   "source": [
    "%store -r df_dic\r\n",
    "%store -r covid_dic"
   ],
   "outputs": [],
   "metadata": {}
  },
  {
   "cell_type": "code",
   "execution_count": 4,
   "source": [
    "def getClosestMatch(queryString):\r\n",
    "\r\n",
    "    \r\n",
    "    matchRatios          = [levenshtein_ratio_and_distance(queryString, KEY) for KEY, _ in covid_dic.items()]\r\n",
    "    bestMatchRatio       = max(matchRatios)\r\n",
    "\r\n",
    "    \r\n",
    "    if (bestMatchRatio < 0.5):\r\n",
    "        return {\r\n",
    "            \"No Match found as per your input\"\r\n",
    "        }\r\n",
    "    \r\n",
    "    \r\n",
    "    bestMatchRatio_index = matchRatios.index(bestMatchRatio)\r\n",
    "\r\n",
    "    response = f\"Total Cases : {df_dic[bestMatchRatio_index]['totalCase']}\\nActive cases : {df_dic[bestMatchRatio_index]['active']}\\nDischarged : {df_dic[bestMatchRatio_index]['discharged']}\\nDeaths : {df_dic[bestMatchRatio_index]['deaths']}\\nActive Ratio : {df_dic[bestMatchRatio_index]['activeRatio']}\\nDischarged Ratio : {df_dic[bestMatchRatio_index]['dischargedRatio']}\\nDeath Ratio : {df_dic[bestMatchRatio_index]['deathRatio']}\"\r\n",
    "    \r\n",
    "    return response"
   ],
   "outputs": [],
   "metadata": {}
  },
  {
   "cell_type": "code",
   "execution_count": 5,
   "source": [
    "def request(state=\"\"):\r\n",
    "    state = str(state)\r\n",
    "    if(state.replace(\" \", \"\").strip() == \"\"):\r\n",
    "        return f\"Invalid State Name\"\r\n",
    "    \r\n",
    "    response = getClosestMatch(queryString = state)\r\n",
    "\r\n",
    "    print(response)"
   ],
   "outputs": [],
   "metadata": {}
  },
  {
   "cell_type": "code",
   "execution_count": 6,
   "source": [
    "request(state=\"punjab\")"
   ],
   "outputs": [
    {
     "output_type": "stream",
     "name": "stdout",
     "text": [
      "Total Cases : 598334\n",
      "Active cases : 1046\n",
      "Discharged : 581055\n",
      "Deaths : 16233\n",
      "Active Ratio : 0.17\n",
      "Discharged Ratio : 97.11\n",
      "Death Ratio : 2.71\n"
     ]
    }
   ],
   "metadata": {}
  }
 ],
 "metadata": {
  "orig_nbformat": 4,
  "language_info": {
   "name": "python",
   "version": "3.8.8",
   "mimetype": "text/x-python",
   "codemirror_mode": {
    "name": "ipython",
    "version": 3
   },
   "pygments_lexer": "ipython3",
   "nbconvert_exporter": "python",
   "file_extension": ".py"
  },
  "kernelspec": {
   "name": "python3",
   "display_name": "Python 3.8.8 64-bit ('base': conda)"
  },
  "interpreter": {
   "hash": "d862c071e59930aca1a120f94be8023881e5d7e2745f60bf5eebc60b16b535cd"
  }
 },
 "nbformat": 4,
 "nbformat_minor": 2
}